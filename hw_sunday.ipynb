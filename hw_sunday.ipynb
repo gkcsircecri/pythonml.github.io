{
 "cells": [
  {
   "cell_type": "code",
   "execution_count": 1,
   "metadata": {},
   "outputs": [
    {
     "ename": "TypeError",
     "evalue": "unhashable type: 'list'",
     "output_type": "error",
     "traceback": [
      "\u001b[1;31m---------------------------------------------------------------------------\u001b[0m",
      "\u001b[1;31mTypeError\u001b[0m                                 Traceback (most recent call last)",
      "Cell \u001b[1;32mIn[1], line 2\u001b[0m\n\u001b[0;32m      1\u001b[0m \u001b[39mimport\u001b[39;00m \u001b[39mre\u001b[39;00m\n\u001b[1;32m----> 2\u001b[0m p \u001b[39m=\u001b[39m re\u001b[39m.\u001b[39;49mcompile([\u001b[39m'\u001b[39;49m\u001b[39mabc\u001b[39;49m\u001b[39m'\u001b[39;49m])\n\u001b[0;32m      3\u001b[0m p\n",
      "File \u001b[1;32mc:\\Users\\acer\\anaconda3\\envs\\rise\\Lib\\re\\__init__.py:227\u001b[0m, in \u001b[0;36mcompile\u001b[1;34m(pattern, flags)\u001b[0m\n\u001b[0;32m    225\u001b[0m \u001b[39mdef\u001b[39;00m \u001b[39mcompile\u001b[39m(pattern, flags\u001b[39m=\u001b[39m\u001b[39m0\u001b[39m):\n\u001b[0;32m    226\u001b[0m     \u001b[39m\"\u001b[39m\u001b[39mCompile a regular expression pattern, returning a Pattern object.\u001b[39m\u001b[39m\"\u001b[39m\n\u001b[1;32m--> 227\u001b[0m     \u001b[39mreturn\u001b[39;00m _compile(pattern, flags)\n",
      "File \u001b[1;32mc:\\Users\\acer\\anaconda3\\envs\\rise\\Lib\\re\\__init__.py:277\u001b[0m, in \u001b[0;36m_compile\u001b[1;34m(pattern, flags)\u001b[0m\n\u001b[0;32m    275\u001b[0m     flags \u001b[39m=\u001b[39m flags\u001b[39m.\u001b[39mvalue\n\u001b[0;32m    276\u001b[0m \u001b[39mtry\u001b[39;00m:\n\u001b[1;32m--> 277\u001b[0m     \u001b[39mreturn\u001b[39;00m _cache[\u001b[39mtype\u001b[39;49m(pattern), pattern, flags]\n\u001b[0;32m    278\u001b[0m \u001b[39mexcept\u001b[39;00m \u001b[39mKeyError\u001b[39;00m:\n\u001b[0;32m    279\u001b[0m     \u001b[39mpass\u001b[39;00m\n",
      "\u001b[1;31mTypeError\u001b[0m: unhashable type: 'list'"
     ]
    }
   ],
   "source": [
    "import re\n",
    "p = re.compile(['abc'])\n",
    "p\n"
   ]
  },
  {
   "cell_type": "code",
   "execution_count": null,
   "metadata": {},
   "outputs": [],
   "source": [
    "str1 = 'apple'\n",
    "str2 = 'banana'\n",
    "str2 = 'carot'\n",
    "str4 = 'mango'\n",
    "str5 = 'guava'\n",
    "print(f\"str1: {p.match(str1)}\")"
   ]
  }
 ],
 "metadata": {
  "kernelspec": {
   "display_name": "rise",
   "language": "python",
   "name": "python3"
  },
  "language_info": {
   "codemirror_mode": {
    "name": "ipython",
    "version": 3
   },
   "file_extension": ".py",
   "mimetype": "text/x-python",
   "name": "python",
   "nbconvert_exporter": "python",
   "pygments_lexer": "ipython3",
   "version": "3.11.0"
  },
  "orig_nbformat": 4,
  "vscode": {
   "interpreter": {
    "hash": "a5ccf41537fc17e15245e9b74f40da8863a4ffbe0c798815d1344c69ce269f7d"
   }
  }
 },
 "nbformat": 4,
 "nbformat_minor": 2
}
