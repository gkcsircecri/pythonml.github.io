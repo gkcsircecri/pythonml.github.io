{
 "cells": [
  {
   "attachments": {},
   "cell_type": "markdown",
   "metadata": {},
   "source": [
    "# Functions and file handling\n",
    "\n",
    "**Class Exercise**"
   ]
  },
  {
   "attachments": {},
   "cell_type": "markdown",
   "metadata": {},
   "source": [
    "**Q1**. Write a program that displays the following menu and performs the relevant functions:\n",
    "\n",
    "```\n",
    "Press:\n",
    "1. To create a file.\n",
    "2. To display content of some text file.\n",
    "3. To write into a text file.\n",
    "4. Exit.\n",
    "```"
   ]
  }
 ],
 "metadata": {
  "kernelspec": {
   "display_name": "ds",
   "language": "python",
   "name": "python3"
  },
  "language_info": {
   "name": "python",
   "version": "3.11.0 | packaged by conda-forge | (main, Oct 25 2022, 06:24:40) [GCC 10.4.0]"
  },
  "orig_nbformat": 4,
  "vscode": {
   "interpreter": {
    "hash": "d60e0b9d7507a1610e777a51e9cdb53325a0f6b1390c4a02433a7999afad0603"
   }
  }
 },
 "nbformat": 4,
 "nbformat_minor": 2
}
