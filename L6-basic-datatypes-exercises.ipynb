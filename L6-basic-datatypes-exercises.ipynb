{
 "cells": [
  {
   "attachments": {},
   "cell_type": "markdown",
   "metadata": {},
   "source": [
    "# String\n",
    "\n",
    "A sequence of characters.\n",
    "\n",
    "## Class Exercises"
   ]
  },
  {
   "attachments": {},
   "cell_type": "markdown",
   "metadata": {},
   "source": [
    "Let `s` be a string variable defined as follows:"
   ]
  },
  {
   "cell_type": "code",
   "execution_count": 6,
   "metadata": {},
   "outputs": [],
   "source": [
    "course = \"data science\""
   ]
  },
  {
   "attachments": {},
   "cell_type": "markdown",
   "metadata": {},
   "source": [
    "**Q1.** Convert `s` into uppercase."
   ]
  },
  {
   "cell_type": "code",
   "execution_count": 13,
   "metadata": {},
   "outputs": [
    {
     "name": "stdout",
     "output_type": "stream",
     "text": [
      "DATA SCIENCE\n"
     ]
    }
   ],
   "source": [
    "course = course.upper()\n",
    "print(course)"
   ]
  },
  {
   "cell_type": "code",
   "execution_count": 14,
   "metadata": {},
   "outputs": [],
   "source": [
    "# If the above question is answered correctly, this code cell will not generate error\n",
    "assert course == \"DATA SCIENCE\""
   ]
  },
  {
   "attachments": {},
   "cell_type": "markdown",
   "metadata": {},
   "source": [
    "**Q2.** Convert `s` into title case."
   ]
  },
  {
   "cell_type": "code",
   "execution_count": 15,
   "metadata": {},
   "outputs": [
    {
     "name": "stdout",
     "output_type": "stream",
     "text": [
      "Data Science\n"
     ]
    }
   ],
   "source": [
    "course = course.title()\n",
    "print(course)"
   ]
  },
  {
   "cell_type": "code",
   "execution_count": 16,
   "metadata": {},
   "outputs": [],
   "source": [
    "# If the above question is answered correctly, this code cell will not generate error\n",
    "assert course == \"Data Science\""
   ]
  },
  {
   "attachments": {},
   "cell_type": "markdown",
   "metadata": {},
   "source": [
    "**Q3.** Use the `course` variable's value in string."
   ]
  },
  {
   "cell_type": "code",
   "execution_count": 18,
   "metadata": {},
   "outputs": [
    {
     "name": "stdout",
     "output_type": "stream",
     "text": [
      "Acharya.Ai Rise Data Science Training Program\n"
     ]
    }
   ],
   "source": [
    "category = \"Rise\"\n",
    "stmt = f\"Acharya.Ai {category} {course} Training Program\"\n",
    "print(stmt)"
   ]
  },
  {
   "cell_type": "code",
   "execution_count": 20,
   "metadata": {},
   "outputs": [],
   "source": [
    "assert stmt == f\"Acharya.Ai {category} Data Science Training Program\""
   ]
  },
  {
   "attachments": {},
   "cell_type": "markdown",
   "metadata": {},
   "source": [
    "**Q4.** Remove white spaces from the right side of a string."
   ]
  },
  {
   "cell_type": "code",
   "execution_count": 22,
   "metadata": {},
   "outputs": [
    {
     "name": "stdout",
     "output_type": "stream",
     "text": [
      "admin\n"
     ]
    }
   ],
   "source": [
    "username = \"admin    \"\n",
    "username = username.rstrip()\n",
    "print(username)"
   ]
  },
  {
   "cell_type": "code",
   "execution_count": 23,
   "metadata": {},
   "outputs": [],
   "source": [
    "assert username == \"admin\""
   ]
  },
  {
   "attachments": {},
   "cell_type": "markdown",
   "metadata": {},
   "source": [
    "**Q5.** Remove white spaces from the left side of a string."
   ]
  },
  {
   "cell_type": "code",
   "execution_count": 25,
   "metadata": {},
   "outputs": [
    {
     "name": "stdout",
     "output_type": "stream",
     "text": [
      "admin\n"
     ]
    }
   ],
   "source": [
    "username = \"   admin\"\n",
    "username = username.lstrip()\n",
    "print(username)"
   ]
  },
  {
   "cell_type": "code",
   "execution_count": 26,
   "metadata": {},
   "outputs": [],
   "source": [
    "assert username == \"admin\""
   ]
  },
  {
   "attachments": {},
   "cell_type": "markdown",
   "metadata": {},
   "source": [
    "**Q6.** Remove white spaces from both the left and the right side of a string."
   ]
  },
  {
   "cell_type": "code",
   "execution_count": 27,
   "metadata": {},
   "outputs": [
    {
     "name": "stdout",
     "output_type": "stream",
     "text": [
      "admin\n"
     ]
    }
   ],
   "source": [
    "username = \"     admin  \"\n",
    "username = username.strip()\n",
    "print(username)"
   ]
  },
  {
   "cell_type": "code",
   "execution_count": 28,
   "metadata": {},
   "outputs": [],
   "source": [
    "assert username == \"admin\""
   ]
  },
  {
   "attachments": {},
   "cell_type": "markdown",
   "metadata": {},
   "source": [
    "**Q7**. Add a tab whitespace (the escape sequence `\\t`) to the below string.\n",
    "\n",
    "```text\n",
    "    This is a new paragraph. Do you notice a tab whitespace in the beginning of this line?\n",
    "```"
   ]
  },
  {
   "cell_type": "code",
   "execution_count": 29,
   "metadata": {},
   "outputs": [
    {
     "name": "stdout",
     "output_type": "stream",
     "text": [
      "This is a new paragraph. Do you notice a tab whitespace in the beginning of this line?\n",
      "\tThis is a new paragraph. Do you notice a tab whitespace in the beginning of this line?\n"
     ]
    }
   ],
   "source": [
    "# Original message string\n",
    "msg = \"This is a new paragraph. Do you notice a tab whitespace in the beginning of this line?\"\n",
    "print(msg)\n",
    "\n",
    "# Complete your solution in the below\n",
    "tabbed_msg = f\"\\t{msg}\"\n",
    "print(tabbed_msg)"
   ]
  },
  {
   "cell_type": "code",
   "execution_count": 30,
   "metadata": {},
   "outputs": [],
   "source": [
    "assert tabbed_msg[0] == \"\\t\" and tabbed_msg[1:] == msg"
   ]
  },
  {
   "attachments": {},
   "cell_type": "markdown",
   "metadata": {},
   "source": [
    "**Q8.** According to PYPL (PopularitY of Programming Languages) in December 2022, the top three programming languages are: Python, Java and JavaScript. Write each language name in a separate line by adding newline escape sequence at appropriate position in the string. Your output should look like the following:\n",
    "\n",
    "```text\n",
    "Python\n",
    "Java\n",
    "JavaScript\n",
    "```"
   ]
  },
  {
   "cell_type": "code",
   "execution_count": 37,
   "metadata": {},
   "outputs": [
    {
     "name": "stdout",
     "output_type": "stream",
     "text": [
      "Python\n",
      "Java\n",
      "JavaScript\n"
     ]
    }
   ],
   "source": [
    "pypl = \"Python\\nJava\\nJavaScript\"\n",
    "print(pypl)"
   ]
  }
 ],
 "metadata": {
  "kernelspec": {
   "display_name": "rise",
   "language": "python",
   "name": "python3"
  },
  "language_info": {
   "codemirror_mode": {
    "name": "ipython",
    "version": 3
   },
   "file_extension": ".py",
   "mimetype": "text/x-python",
   "name": "python",
   "nbconvert_exporter": "python",
   "pygments_lexer": "ipython3",
   "version": "3.11.0 | packaged by conda-forge | (main, Oct 25 2022, 06:12:32) [MSC v.1929 64 bit (AMD64)]"
  },
  "orig_nbformat": 4,
  "vscode": {
   "interpreter": {
    "hash": "a5ccf41537fc17e15245e9b74f40da8863a4ffbe0c798815d1344c69ce269f7d"
   }
  }
 },
 "nbformat": 4,
 "nbformat_minor": 2
}
